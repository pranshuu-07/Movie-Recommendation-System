{
 "cells": [
  {
   "cell_type": "code",
   "execution_count": 1,
   "id": "5a770eb9",
   "metadata": {},
   "outputs": [],
   "source": [
    "import pandas as pd\n",
    "movies = pd.read_csv('tmdb_5000_movies.csv')\n",
    "credits = pd.read_csv('tmdb_5000_credits.csv')\n",
    "df = movies.merge( credits ,left_on= \"id\" , right_on=\"movie_id\")"
   ]
  },
  {
   "cell_type": "code",
   "execution_count": 2,
   "id": "458496ad",
   "metadata": {},
   "outputs": [],
   "source": [
    "df['genres'] = df['genres'].fillna('[]')       \n",
    "df['keywords'] = df['keywords'].fillna('[]')  \n",
    "df['cast'] = df['cast'].fillna('[]')           \n",
    "df['crew'] = df['crew'].fillna('[]')           \n",
    "df['overview'] = df['overview'].fillna('')     "
   ]
  },
  {
   "cell_type": "code",
   "execution_count": 3,
   "id": "81fbac4b",
   "metadata": {},
   "outputs": [],
   "source": [
    "import ast\n",
    "def parse_cast(cast):\n",
    "    cast_list = ast.literal_eval(cast)\n",
    "    return [cast['name'] for cast in cast_list[:3]]\n",
    "    \n",
    "df[\"parsed_cast\"] = df[\"cast\"].apply(parse_cast)\n",
    "\n",
    "def parse_crew(crew):\n",
    "    crew_list = ast.literal_eval(crew)\n",
    "    for member in crew_list:\n",
    "        if member[\"job\"] == \"Director\":\n",
    "            return [member[\"name\"]]\n",
    "    return []\n",
    "    \n",
    "df[\"parsed_crew\"] = df[\"crew\"].apply(parse_crew)\n",
    "\n",
    "def parse_genres(genres_str):\n",
    "    genres_list = ast.literal_eval(genres_str)\n",
    "    return [genre['name'] for genre in genres_list]\n",
    "\n",
    "df['genres_parsed'] = df['genres'].apply(parse_genres)\n",
    "\n",
    "\n",
    "def parse_keywords(keywords_str):\n",
    "    keywords_list = ast.literal_eval(keywords_str)\n",
    "    return [keyword['name'] for keyword in keywords_list]\n",
    "\n",
    "\n",
    "df['keywords_parsed'] = df['keywords'].apply(parse_keywords)\n",
    "\n",
    "def parsed_production(production):\n",
    "    production_list = ast.literal_eval(production)\n",
    "    return [ prod[\"name\"] for prod in production_list[:4]]\n",
    "\n",
    "df[\"parsed_production\"] = df[\"production_companies\"].apply(parsed_production)"
   ]
  },
  {
   "cell_type": "code",
   "execution_count": 4,
   "id": "e31dbeaa",
   "metadata": {},
   "outputs": [],
   "source": [
    "def create_soup(x):\n",
    "    return (\n",
    "        (10*' '.join(x['genres_parsed'])) + ' ' +\n",
    "        (5*' '.join(x['keywords_parsed'])) + ' ' +\n",
    "        (3*' '.join(x['parsed_crew']) )+ ' ' +\n",
    "        (2*x['overview'])\n",
    "    )\n",
    "    \n",
    "df[\"soup\"] = df.apply(create_soup , axis = 1)"
   ]
  },
  {
   "cell_type": "code",
   "execution_count": 5,
   "id": "b2d66d9a",
   "metadata": {},
   "outputs": [],
   "source": [
    "from sklearn.feature_extraction.text import TfidfVectorizer\n",
    "\n",
    "vector = TfidfVectorizer( stop_words=\"english\" , max_features=5000)\n",
    "vectormatrix = vector.fit_transform(df['soup'])\n",
    "from sklearn.metrics.pairwise import cosine_similarity\n",
    "similarity = cosine_similarity(vectormatrix , vectormatrix)"
   ]
  },
  {
   "cell_type": "code",
   "execution_count": 6,
   "id": "b00231d5",
   "metadata": {},
   "outputs": [],
   "source": [
    "import pickle\n",
    "with open(\"similarity.pkl\" , \"wb\") as f:\n",
    "    pickle.dump(similarity , f)\n",
    "df[['original_title', 'soup']].to_pickle('movies.pkl')\n"
   ]
  },
  {
   "cell_type": "code",
   "execution_count": 7,
   "id": "ed69fec7",
   "metadata": {},
   "outputs": [],
   "source": [
    "indices = pd.Series(df.index, index=df['original_title'].str.lower()).drop_duplicates()\n",
    "\n",
    "from difflib import get_close_matches\n",
    "\n",
    "def recommend(title, cosine_sim=similarity):\n",
    "    title = title.lower()\n",
    "\n",
    "    if title not in indices:\n",
    "        matches = get_close_matches(title, indices.index, n=1, cutoff=0.6)\n",
    "        if matches:\n",
    "            suggestion = matches[0]\n",
    "            confirm = input(f\"Did you mean '{suggestion}'? (y/n): \").lower()\n",
    "            if confirm == 'y':\n",
    "                title = suggestion\n",
    "            else:\n",
    "                print(\"Movie not found!\")\n",
    "                return\n",
    "        else:\n",
    "            print(\"Movie not found!\")\n",
    "            return\n",
    "\n",
    "    idx = indices[title]\n",
    "    sim_scores = list(enumerate(cosine_sim[idx]))\n",
    "    sim_scores = sorted(sim_scores, key=lambda x: x[1], reverse=True)\n",
    "\n",
    "    sim_scores = sim_scores[1:11]\n",
    "    movie_indices = [i[0] for i in sim_scores]\n",
    "\n",
    "    return df[['original_title', 'vote_average', 'release_date']].iloc[movie_indices]\n"
   ]
  },
  {
   "cell_type": "code",
   "execution_count": 8,
   "id": "9da11527",
   "metadata": {},
   "outputs": [
    {
     "name": "stdout",
     "output_type": "stream",
     "text": [
      "interstellar\n",
      "                  original_title  vote_average release_date\n",
      "4332              Silent Running           6.3   09-03-1972\n",
      "461                Lost in Space           5.0   03-04-1998\n",
      "300            Starship Troopers           6.7   06-11-1997\n",
      "3405  Stargate: The Ark of Truth           6.9   11-03-2008\n",
      "1531                   Moonraker           5.9   26-06-1979\n",
      "149                   Armageddon           6.4   01-07-1998\n",
      "278           Planet of the Apes           5.6   25-07-2001\n",
      "2966       2001: A Space Odyssey           7.9   10-04-1968\n",
      "643                Space Cowboys           6.3   31-07-2000\n",
      "3158                       Alien           7.9   25-05-1979\n",
      "Movie not found!\n",
      "arrival\n",
      "None\n",
      "Movie not found!\n",
      "endgame\n",
      "None\n",
      "avemgrs\n",
      "                          original_title  vote_average release_date\n",
      "182                              Ant-Man           7.0   14-07-2015\n",
      "174                  The Incredible Hulk           6.1   12-06-2008\n",
      "79                            Iron Man 2           6.6   28-04-2010\n",
      "7                Avengers: Age of Ultron           7.3   22-04-2015\n",
      "26            Captain America: Civil War           7.1   27-04-2016\n",
      "511                                X-Men           6.8   13-07-2000\n",
      "203                                   X2           6.8   24-04-2003\n",
      "129                                 Thor           6.6   21-04-2011\n",
      "85   Captain America: The Winter Soldier           7.6   20-03-2014\n",
      "64                     X-Men: Apocalypse           6.4   18-05-2016\n",
      "Exiting recommendation system. Goodbye!\n"
     ]
    }
   ],
   "source": [
    "\n",
    "while True:\n",
    "    a = input(\"Enter a movie title (or type 'quit' to exit): \")\n",
    "\n",
    "    if a.lower() == \"quit\":\n",
    "        print(\"Exiting recommendation system. Goodbye!\")\n",
    "        break\n",
    "    else:\n",
    "        x = recommend(a)\n",
    "        print(a)\n",
    "        print(x)"
   ]
  },
  {
   "cell_type": "code",
   "execution_count": null,
   "id": "a86c9032",
   "metadata": {},
   "outputs": [],
   "source": []
  }
 ],
 "metadata": {
  "kernelspec": {
   "display_name": "Python 3",
   "language": "python",
   "name": "python3"
  },
  "language_info": {
   "codemirror_mode": {
    "name": "ipython",
    "version": 3
   },
   "file_extension": ".py",
   "mimetype": "text/x-python",
   "name": "python",
   "nbconvert_exporter": "python",
   "pygments_lexer": "ipython3",
   "version": "3.12.3"
  }
 },
 "nbformat": 4,
 "nbformat_minor": 5
}
